{
 "cells": [
  {
   "cell_type": "code",
   "execution_count": 8,
   "id": "96153c76-0e38-4c61-ab61-d0da144aebab",
   "metadata": {},
   "outputs": [
    {
     "name": "stdout",
     "output_type": "stream",
     "text": [
      "Collecting scheduleNote: you may need to restart the kernel to use updated packages.\n",
      "\n",
      "  Downloading schedule-1.2.2-py3-none-any.whl.metadata (3.8 kB)\n",
      "Downloading schedule-1.2.2-py3-none-any.whl (12 kB)\n",
      "Installing collected packages: schedule\n",
      "Successfully installed schedule-1.2.2\n"
     ]
    }
   ],
   "source": [
    "pip install schedule"
   ]
  },
  {
   "cell_type": "code",
   "execution_count": 16,
   "id": "b8815ece-038d-489f-b82d-c12490db1c8f",
   "metadata": {},
   "outputs": [],
   "source": [
    "from selenium import webdriver\n",
    "from selenium.webdriver.common.by import By\n",
    "from selenium.webdriver.common.keys import Keys\n",
    "from selenium.webdriver.support.ui import WebDriverWait\n",
    "from selenium.webdriver.support import expected_conditions as EC\n",
    "from selenium.webdriver.common.action_chains import ActionChains\n",
    "\n",
    "from time import sleep\n",
    "import random\n",
    "import re\n",
    "import pandas as pd\n",
    "from selenium import webdriver\n",
    "import sys\n",
    "import time\n",
    "import schedule\n",
    "import threading"
   ]
  },
  {
   "cell_type": "code",
   "execution_count": 2,
   "id": "be0f760c-a1c8-46b0-a5b6-49cf878650af",
   "metadata": {},
   "outputs": [],
   "source": [
    "from sqlalchemy import create_engine, Date, String\n",
    "from sqlalchemy.dialects.oracle import NUMBER, VARCHAR2"
   ]
  },
  {
   "cell_type": "code",
   "execution_count": 3,
   "id": "2e0839c2-c1d3-4995-90c9-bd1674a9ba75",
   "metadata": {},
   "outputs": [],
   "source": [
    "# 데이터 베이스 연결 정보 설정\n",
    "db_username = 'base_man'\n",
    "db_password = '1111'\n",
    "db_host = '192.168.0.29' # 다른 IP 주소\n",
    "db_port = '1521' #Oracle의 기본포트\n",
    "service_name = 'XE'\n",
    "\n",
    "engine = create_engine(f'oracle+cx_oracle://{db_username}:{db_password}@{db_host}:{db_port}/?service_name={service_name}')"
   ]
  },
  {
   "cell_type": "code",
   "execution_count": 4,
   "id": "3d43b331-f49d-40cb-8555-d5546def512d",
   "metadata": {},
   "outputs": [],
   "source": [
    "query = \"select * from match_schedule where match_date = TRUNC(SYSDATE)\"\n",
    "mf = pd.read_sql(query, con=engine)"
   ]
  },
  {
   "cell_type": "code",
   "execution_count": 5,
   "id": "ea9f9a5f-901d-41ee-9549-8c8d609bea6c",
   "metadata": {},
   "outputs": [
    {
     "data": {
      "text/html": [
       "<div>\n",
       "<style scoped>\n",
       "    .dataframe tbody tr th:only-of-type {\n",
       "        vertical-align: middle;\n",
       "    }\n",
       "\n",
       "    .dataframe tbody tr th {\n",
       "        vertical-align: top;\n",
       "    }\n",
       "\n",
       "    .dataframe thead th {\n",
       "        text-align: right;\n",
       "    }\n",
       "</style>\n",
       "<table border=\"1\" class=\"dataframe\">\n",
       "  <thead>\n",
       "    <tr style=\"text-align: right;\">\n",
       "      <th></th>\n",
       "      <th>match_id</th>\n",
       "      <th>match_date</th>\n",
       "      <th>match_time</th>\n",
       "      <th>status</th>\n",
       "      <th>team1_code</th>\n",
       "      <th>team2_code</th>\n",
       "      <th>home_team_code</th>\n",
       "    </tr>\n",
       "  </thead>\n",
       "  <tbody>\n",
       "    <tr>\n",
       "      <th>0</th>\n",
       "      <td>10</td>\n",
       "      <td>2024-09-05</td>\n",
       "      <td>18:30</td>\n",
       "      <td>예정</td>\n",
       "      <td>HH</td>\n",
       "      <td>HT</td>\n",
       "      <td>HT</td>\n",
       "    </tr>\n",
       "    <tr>\n",
       "      <th>1</th>\n",
       "      <td>11</td>\n",
       "      <td>2024-09-05</td>\n",
       "      <td>18:30</td>\n",
       "      <td>예정</td>\n",
       "      <td>KT</td>\n",
       "      <td>LT</td>\n",
       "      <td>LT</td>\n",
       "    </tr>\n",
       "    <tr>\n",
       "      <th>2</th>\n",
       "      <td>12</td>\n",
       "      <td>2024-09-05</td>\n",
       "      <td>18:30</td>\n",
       "      <td>예정</td>\n",
       "      <td>SK</td>\n",
       "      <td>LG</td>\n",
       "      <td>LG</td>\n",
       "    </tr>\n",
       "    <tr>\n",
       "      <th>3</th>\n",
       "      <td>13</td>\n",
       "      <td>2024-09-05</td>\n",
       "      <td>18:30</td>\n",
       "      <td>예정</td>\n",
       "      <td>WO</td>\n",
       "      <td>NC</td>\n",
       "      <td>NC</td>\n",
       "    </tr>\n",
       "  </tbody>\n",
       "</table>\n",
       "</div>"
      ],
      "text/plain": [
       "   match_id match_date match_time status team1_code team2_code home_team_code\n",
       "0        10 2024-09-05      18:30     예정         HH         HT             HT\n",
       "1        11 2024-09-05      18:30     예정         KT         LT             LT\n",
       "2        12 2024-09-05      18:30     예정         SK         LG             LG\n",
       "3        13 2024-09-05      18:30     예정         WO         NC             NC"
      ]
     },
     "execution_count": 5,
     "metadata": {},
     "output_type": "execute_result"
    }
   ],
   "source": [
    "mf"
   ]
  },
  {
   "cell_type": "code",
   "execution_count": 28,
   "id": "38a9c4ba-8ac1-435b-ab74-ec4ac2852938",
   "metadata": {},
   "outputs": [
    {
     "name": "stdout",
     "output_type": "stream",
     "text": [
      "데이터 수집 시작...\n",
      "Table insert successfully\n"
     ]
    },
    {
     "ename": "NameError",
     "evalue": "name 'start_time' is not defined",
     "output_type": "error",
     "traceback": [
      "\u001b[1;31m---------------------------------------------------------------------------\u001b[0m",
      "\u001b[1;31mNameError\u001b[0m                                 Traceback (most recent call last)",
      "Cell \u001b[1;32mIn[28], line 92\u001b[0m\n\u001b[0;32m     90\u001b[0m \u001b[38;5;66;03m# 스케쥴러 실행\u001b[39;00m\n\u001b[0;32m     91\u001b[0m \u001b[38;5;28;01mwhile\u001b[39;00m \u001b[38;5;28;01mTrue\u001b[39;00m:\n\u001b[1;32m---> 92\u001b[0m     schedule\u001b[38;5;241m.\u001b[39mrun_pending()\n\u001b[0;32m     93\u001b[0m     time\u001b[38;5;241m.\u001b[39msleep(\u001b[38;5;241m1\u001b[39m)\n",
      "File \u001b[1;32m~\\anaconda3\\Lib\\site-packages\\schedule\\__init__.py:854\u001b[0m, in \u001b[0;36mrun_pending\u001b[1;34m()\u001b[0m\n\u001b[0;32m    850\u001b[0m \u001b[38;5;28;01mdef\u001b[39;00m \u001b[38;5;21mrun_pending\u001b[39m() \u001b[38;5;241m-\u001b[39m\u001b[38;5;241m>\u001b[39m \u001b[38;5;28;01mNone\u001b[39;00m:\n\u001b[0;32m    851\u001b[0m \u001b[38;5;250m    \u001b[39m\u001b[38;5;124;03m\"\"\"Calls :meth:`run_pending <Scheduler.run_pending>` on the\u001b[39;00m\n\u001b[0;32m    852\u001b[0m \u001b[38;5;124;03m    :data:`default scheduler instance <default_scheduler>`.\u001b[39;00m\n\u001b[0;32m    853\u001b[0m \u001b[38;5;124;03m    \"\"\"\u001b[39;00m\n\u001b[1;32m--> 854\u001b[0m     default_scheduler\u001b[38;5;241m.\u001b[39mrun_pending()\n",
      "File \u001b[1;32m~\\anaconda3\\Lib\\site-packages\\schedule\\__init__.py:101\u001b[0m, in \u001b[0;36mScheduler.run_pending\u001b[1;34m(self)\u001b[0m\n\u001b[0;32m     99\u001b[0m runnable_jobs \u001b[38;5;241m=\u001b[39m (job \u001b[38;5;28;01mfor\u001b[39;00m job \u001b[38;5;129;01min\u001b[39;00m \u001b[38;5;28mself\u001b[39m\u001b[38;5;241m.\u001b[39mjobs \u001b[38;5;28;01mif\u001b[39;00m job\u001b[38;5;241m.\u001b[39mshould_run)\n\u001b[0;32m    100\u001b[0m \u001b[38;5;28;01mfor\u001b[39;00m job \u001b[38;5;129;01min\u001b[39;00m \u001b[38;5;28msorted\u001b[39m(runnable_jobs):\n\u001b[1;32m--> 101\u001b[0m     \u001b[38;5;28mself\u001b[39m\u001b[38;5;241m.\u001b[39m_run_job(job)\n",
      "File \u001b[1;32m~\\anaconda3\\Lib\\site-packages\\schedule\\__init__.py:173\u001b[0m, in \u001b[0;36mScheduler._run_job\u001b[1;34m(self, job)\u001b[0m\n\u001b[0;32m    172\u001b[0m \u001b[38;5;28;01mdef\u001b[39;00m \u001b[38;5;21m_run_job\u001b[39m(\u001b[38;5;28mself\u001b[39m, job: \u001b[38;5;124m\"\u001b[39m\u001b[38;5;124mJob\u001b[39m\u001b[38;5;124m\"\u001b[39m) \u001b[38;5;241m-\u001b[39m\u001b[38;5;241m>\u001b[39m \u001b[38;5;28;01mNone\u001b[39;00m:\n\u001b[1;32m--> 173\u001b[0m     ret \u001b[38;5;241m=\u001b[39m job\u001b[38;5;241m.\u001b[39mrun()\n\u001b[0;32m    174\u001b[0m     \u001b[38;5;28;01mif\u001b[39;00m \u001b[38;5;28misinstance\u001b[39m(ret, CancelJob) \u001b[38;5;129;01mor\u001b[39;00m ret \u001b[38;5;129;01mis\u001b[39;00m CancelJob:\n\u001b[0;32m    175\u001b[0m         \u001b[38;5;28mself\u001b[39m\u001b[38;5;241m.\u001b[39mcancel_job(job)\n",
      "File \u001b[1;32m~\\anaconda3\\Lib\\site-packages\\schedule\\__init__.py:691\u001b[0m, in \u001b[0;36mJob.run\u001b[1;34m(self)\u001b[0m\n\u001b[0;32m    688\u001b[0m     \u001b[38;5;28;01mreturn\u001b[39;00m CancelJob\n\u001b[0;32m    690\u001b[0m logger\u001b[38;5;241m.\u001b[39mdebug(\u001b[38;5;124m\"\u001b[39m\u001b[38;5;124mRunning job \u001b[39m\u001b[38;5;132;01m%s\u001b[39;00m\u001b[38;5;124m\"\u001b[39m, \u001b[38;5;28mself\u001b[39m)\n\u001b[1;32m--> 691\u001b[0m ret \u001b[38;5;241m=\u001b[39m \u001b[38;5;28mself\u001b[39m\u001b[38;5;241m.\u001b[39mjob_func()\n\u001b[0;32m    692\u001b[0m \u001b[38;5;28mself\u001b[39m\u001b[38;5;241m.\u001b[39mlast_run \u001b[38;5;241m=\u001b[39m datetime\u001b[38;5;241m.\u001b[39mdatetime\u001b[38;5;241m.\u001b[39mnow()\n\u001b[0;32m    693\u001b[0m \u001b[38;5;28mself\u001b[39m\u001b[38;5;241m.\u001b[39m_schedule_next_run()\n",
      "Cell \u001b[1;32mIn[26], line 84\u001b[0m, in \u001b[0;36mcollect_vote\u001b[1;34m()\u001b[0m\n\u001b[0;32m     82\u001b[0m driver\u001b[38;5;241m.\u001b[39mquit()\n\u001b[0;32m     83\u001b[0m end_time \u001b[38;5;241m=\u001b[39m time\u001b[38;5;241m.\u001b[39mtime()  \u001b[38;5;66;03m# 종료 시간 측정\u001b[39;00m\n\u001b[1;32m---> 84\u001b[0m \u001b[38;5;28mprint\u001b[39m(\u001b[38;5;124mf\u001b[39m\u001b[38;5;124m\"\u001b[39m\u001b[38;5;124m작업 소요 시간: \u001b[39m\u001b[38;5;132;01m{\u001b[39;00mend_time\u001b[38;5;250m \u001b[39m\u001b[38;5;241m-\u001b[39m\u001b[38;5;250m \u001b[39mstart_time\u001b[38;5;132;01m:\u001b[39;00m\u001b[38;5;124m.2f\u001b[39m\u001b[38;5;132;01m}\u001b[39;00m\u001b[38;5;124m 초\u001b[39m\u001b[38;5;124m\"\u001b[39m)\n",
      "\u001b[1;31mNameError\u001b[0m: name 'start_time' is not defined"
     ]
    }
   ],
   "source": [
    "from selenium import webdriver\n",
    "from selenium.webdriver.common.by import By\n",
    "import pandas as pd\n",
    "import time\n",
    "\n",
    "# 크롬 드라이버 옵션 설정\n",
    "options = webdriver.ChromeOptions()\n",
    "options.add_argument('user-agent=Mozilla/5.0 (Windows NT 10.0; Win64; x64) AppleWebKit/537.36 (KHTML, like Gecko) Chrome/58.0.3029.110 Safari/537.3')\n",
    "options.add_argument('window-size=1380,900')\n",
    "\n",
    "# 스케줄 중단 플래그\n",
    "stop_event = threading.Event()\n",
    "\n",
    "def collect_vote():\n",
    "    print(\"데이터 수집 시작...\")\n",
    "    start_time = time.time()\n",
    "    # 드라이버 초기화\n",
    "    driver = webdriver.Chrome(options=options)\n",
    "    \n",
    "    # 결과를 저장할 리스트\n",
    "    results = []\n",
    "    \n",
    "    # 데이터 크롤링\n",
    "    for _, row in mf.iterrows():\n",
    "    #    match_date = row['match_date'].replace('-', '')  # '2024-09-04' -> '20240904'\n",
    "        match_date = pd.to_datetime(row['match_date']).strftime('%Y%m%d')\n",
    "        h_club_code = row['team1_code']\n",
    "        k_club_code = row['team2_code']\n",
    "        \n",
    "        # URL 생성\n",
    "        url_link = f\"https://m.sports.naver.com/game/{match_date}{h_club_code}{k_club_code}02024/preview\"\n",
    "    \n",
    "        # URL로 이동\n",
    "        driver.get(url_link)\n",
    "        \n",
    "        # 페이지 로드 대기\n",
    "        time.sleep(3)\n",
    "        \n",
    "        try:\n",
    "            # 응원수 추출\n",
    "            v_votes = driver.find_element(By.XPATH, '//*[@id=\"content\"]/div/aside/div/div[2]/div[1]/div[2]/div[1]/div[1]/div/div[2]').text\n",
    "            s_votes = driver.find_element(By.XPATH, '//*[@id=\"content\"]/div/aside/div/div[2]/div[1]/div[2]/div[2]/div[2]/div/div[2]').text\n",
    "    \n",
    "            # 구단 이름 추출\n",
    "            v_club = driver.find_element(By.XPATH, '//*[@id=\"content\"]/div/aside/div/div[1]/div/div[2]/div[1]/div[1]/div/div[2]/div').text\n",
    "            s_club = driver.find_element(By.XPATH, '//*[@id=\"content\"]/div/aside/div/div[1]/div/div[2]/div[1]/div[2]/div/div[2]/div').text\n",
    "    \n",
    "             # 데이터 변환\n",
    "            club_mapping = {'한화': 'HH', 'KIA': 'HT','롯데':'LT','두산':'OB','삼성':'SS','SSG':'SK','키움':'WO'}\n",
    "            \n",
    "            # 데이터 저장\n",
    "            results.append({\n",
    "                'VSDate': row['match_date'],\n",
    "                'Team1_Code': club_mapping.get(v_club, v_club),\n",
    "                'Team2_Code': club_mapping.get(s_club,s_club),\n",
    "                'Team1_Votes': v_votes,\n",
    "                'Team2_Votes': s_votes,\n",
    "            })\n",
    "    \n",
    "        except Exception as e:\n",
    "            print(f\"An error occurred for URL {url_link}: {e}\")\n",
    "\n",
    "    # 데이터프레임 생성\n",
    "    result_df = pd.DataFrame(results)\n",
    "    \n",
    "  \n",
    "    result_df.to_sql(\n",
    "        'vs_vote', \n",
    "        con=engine, \n",
    "        if_exists='replace', \n",
    "        index=False, \n",
    "        dtype={\n",
    "            'VSDate' : Date,\n",
    "            'team1_code': VARCHAR2(10),\n",
    "            'team2_code': VARCHAR2(10),\n",
    "            'team1_votes': VARCHAR2(20), \n",
    "            'team2_votes': VARCHAR2(20)\n",
    "        }\n",
    "    )\n",
    "    print(\"Table insert successfully\")\n",
    "    \n",
    "    # 브라우저 종료\n",
    "    driver.quit()\n",
    "    end_time = time.time()  # 종료 시간 측정\n",
    "    print(f\"작업 소요 시간: {end_time - start_time:.2f} 초\")\n",
    "\n",
    "# 1분마다 collect_vote 함수를 실행\n",
    "schedule.every(1).minutes.do(collect_vote)\n",
    "\n",
    "# 스케쥴러 실행\n",
    "while True:\n",
    "    schedule.run_pending()\n",
    "    time.sleep(1)"
   ]
  }
 ],
 "metadata": {
  "kernelspec": {
   "display_name": "Python 3 (ipykernel)",
   "language": "python",
   "name": "python3"
  },
  "language_info": {
   "codemirror_mode": {
    "name": "ipython",
    "version": 3
   },
   "file_extension": ".py",
   "mimetype": "text/x-python",
   "name": "python",
   "nbconvert_exporter": "python",
   "pygments_lexer": "ipython3",
   "version": "3.11.7"
  }
 },
 "nbformat": 4,
 "nbformat_minor": 5
}
